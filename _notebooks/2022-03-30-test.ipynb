{
 "cells": [
  {
   "cell_type": "markdown",
   "id": "e9b90b1a-d2cc-43bb-bcf3-abd8203011eb",
   "metadata": {},
   "source": [
    "# テスト投稿"
   ]
  },
  {
   "cell_type": "markdown",
   "id": "c6f70579-dd8d-471e-9a4c-5754c53f282a",
   "metadata": {},
   "source": [
    "さて、この投稿がどのように表示されるのか、果たして成功するのか！"
   ]
  },
  {
   "cell_type": "code",
   "execution_count": null,
   "id": "30f307a5-9202-497e-ad9d-1b0a5b128ff3",
   "metadata": {},
   "outputs": [],
   "source": []
  }
 ],
 "metadata": {
  "kernelspec": {
   "display_name": "Python 3",
   "language": "python",
   "name": "python3"
  },
  "language_info": {
   "codemirror_mode": {
    "name": "ipython",
    "version": 3
   },
   "file_extension": ".py",
   "mimetype": "text/x-python",
   "name": "python",
   "nbconvert_exporter": "python",
   "pygments_lexer": "ipython3",
   "version": "3.8.8"
  }
 },
 "nbformat": 4,
 "nbformat_minor": 5
}
