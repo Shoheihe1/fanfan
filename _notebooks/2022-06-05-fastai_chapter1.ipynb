{
 "cells": [
  {
   "cell_type": "markdown",
   "metadata": {},
   "source": [
    "# 『Pytorch と fastai で始めるディープラーニング　１章』"
   ]
  },
  {
   "cell_type": "markdown",
   "metadata": {},
   "source": [
    "## 目次\n",
    "- [画像のアップロード（p17）](#画像のアップロード（p17）)\n",
    "- [](#)"
   ]
  },
  {
   "cell_type": "markdown",
   "metadata": {},
   "source": [
    "<br>\n",
    "<br>\n",
    "<br>\n",
    "\n",
    "## 画像のアップロード（p17）\n",
    "---\n",
    "<br>\n",
    "教科書通りに画像をアップロードして分類させようとすると、以下の様なエラーが出る。\n",
    "\n",
    "![](image/2022-06-05-12-15-50.png)\n",
    "\n",
    "（備忘録として書いておくと、切り取った画像はpaste image という拡張機能により「ctrl + alt + v」で自動でimage フォルダに画像を保存され、ここに張り付けてくれる。）\n",
    "\n",
    "どういうことかという事で、一度以下のように試行しても同じエラーが出た。\n",
    "![](image/2022-06-05-12-19-19.png)\n",
    "\n",
    "どうやらアップロードが上手くいっていないらしい\n",
    "![](image/2022-06-05-12-23-14.png)\n",
    "\n",
    "<br>\n",
    "\n",
    "### ▪ 方針を変えてみる\n",
    "<br>\n",
    " \n",
    "\n",
    "ここで引っかかっているのはもったいないしあまり重要でないはずなので、仕方なく自力でアップロードすることにした。\n",
    "\n",
    "image フォルダに自分で画像をアップロードし、それをuploader変数のlistの一つにすることにした。\n",
    "\n",
    "![](image/2022-06-05-12-26-55.png)\n",
    "![](image/2022-06-05-12-29-00.png)\n",
    "\n",
    "↑成功。なんとAI様によると100%ねこらしい。機械に100%と言われるのは、何だか逆に心配になってくる。\n",
    "\n",
    "\n"
   ]
  },
  {
   "cell_type": "code",
   "execution_count": null,
   "metadata": {
    "vscode": {
     "languageId": "plaintext"
    }
   },
   "outputs": [],
   "source": []
  },
  {
   "cell_type": "markdown",
   "metadata": {},
   "source": []
  }
 ],
 "metadata": {
  "language_info": {
   "name": "python"
  },
  "orig_nbformat": 4
 },
 "nbformat": 4,
 "nbformat_minor": 2
}
