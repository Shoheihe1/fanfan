{
 "cells": [
  {
   "cell_type": "markdown",
   "metadata": {},
   "source": [
    "\n",
    "# 『pytorch ＆ 深層学習プログラミング』　備忘録3章"
   ]
  },
  {
   "cell_type": "markdown",
   "metadata": {},
   "source": [
    "## 目次\n",
    "- [displaの謎](#displaの謎)\n",
    "- \n",
    "<br>\n",
    "<br>\n",
    "<br>"
   ]
  },
  {
   "cell_type": "markdown",
   "metadata": {},
   "source": [
    "## displaの謎\n",
    "---\n",
    "<br>\n",
    "テキストのコードが載っているgitからコピペをしてコードを動かそうとすると、以下の様なエラーが出てしまった。\n",
    "\n",
    "![](image/2022-06-28-22-51-13.png)\n",
    "\n",
    "何をやってもこのエラーが解消しない。序盤も序盤であるのに、何が起こっているのか全く分からなかった。皆さんはこの愚かなミスにお気づきだろうか。\n",
    "\n",
    "![](image/2022-06-28-22-53-09.png)\n",
    "\n",
    "なんと、display のはずがコピペミスでdisplaになってしまっていただけだった。それに気づかずdisplaというモジュールについて調べていた時間を返してほしいと思いつつ、単に自分があほなだけであった。\n",
    "\n"
   ]
  },
  {
   "cell_type": "markdown",
   "metadata": {},
   "source": []
  }
 ],
 "metadata": {
  "language_info": {
   "name": "python"
  },
  "orig_nbformat": 4
 },
 "nbformat": 4,
 "nbformat_minor": 2
}
