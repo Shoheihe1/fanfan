{
 "cells": [
  {
   "cell_type": "markdown",
   "metadata": {},
   "source": [
    "# 『pytorch ＆ 深層学習プログラミング』　入門編"
   ]
  },
  {
   "cell_type": "markdown",
   "metadata": {},
   "source": [
    "## 目次\n",
    "\n",
    "- [np.trsnspose() (p536)](#nptrsnspose-p536)\n",
    "\n",
    "\n",
    "## np.trsnspose() (p536)\n",
    "---\n",
    "<br>\n"
   ]
  },
  {
   "cell_type": "markdown",
   "metadata": {},
   "source": [
    "この関数が行っている行列の変換の仕方が分かりづらかった。\n",
    "\n",
    "本書よりもっと単純な行列でその変換の仕方を見る。"
   ]
  },
  {
   "cell_type": "code",
   "execution_count": 2,
   "metadata": {},
   "outputs": [
    {
     "data": {
      "text/plain": [
       "array([[[ 1,  2],\n",
       "        [ 3,  4],\n",
       "        [ 5,  6]],\n",
       "\n",
       "       [[ 7,  8],\n",
       "        [ 9, 10],\n",
       "        [11, 12]]])"
      ]
     },
     "execution_count": 2,
     "metadata": {},
     "output_type": "execute_result"
    }
   ],
   "source": [
    "import numpy as np\n",
    "n1 = np.arange(1,13,1)\n",
    "n2 = n1.reshape(2,3,2)\n",
    "n2"
   ]
  },
  {
   "cell_type": "markdown",
   "metadata": {},
   "source": [
    "この行列を`np.transpose`関数で変換してみると"
   ]
  },
  {
   "cell_type": "code",
   "execution_count": 3,
   "metadata": {},
   "outputs": [
    {
     "name": "stdout",
     "output_type": "stream",
     "text": [
      "[[[ 1  3  5]\n",
      "  [ 2  4  6]]\n",
      "\n",
      " [[ 7  9 11]\n",
      "  [ 8 10 12]]]\n"
     ]
    },
    {
     "data": {
      "text/plain": [
       "(2, 2, 3)"
      ]
     },
     "execution_count": 3,
     "metadata": {},
     "output_type": "execute_result"
    }
   ],
   "source": [
    "n3 = np.transpose(n2, (0,2,1))\n",
    "print(n3)\n",
    "n3.shape"
   ]
  },
  {
   "cell_type": "markdown",
   "metadata": {},
   "source": [
    "正直言うと、この変換がどのような法則で行われているのかわからなかった。公式ドキュメントにはこの変換で**軸を入れ替える**と書いてあるが、それは分かるのである。実際にこの変換がどのような法則によって行われているのか、自分なりにかみ砕いて説明する。\n",
    "\n",
    "<br>\n",
    "<br>\n",
    "\n",
    "### ▪ 3段階で変換\n",
    "\n",
    "変換は3段階に分けて考えると分かりやすい。\n",
    "\n",
    "<br>\n",
    "\n",
    "1. 全体の構造を把握\n",
    "2. 一番内側の（最小の）格子 [] の中身が、元の行列のどの部分に相当するか\n",
    "3. 次に来る格子が、元の行列のどの部分に相当するか\n",
    "\n",
    "<br>\n",
    "\n",
    "である。具体的に上の例ではどういうことなのかは以下の通り\n",
    "\n",
    "<br>\n",
    "\n",
    "1. `n3.shape`で構造を確認\n",
    "2. 新しくできた行列の[1,3,5]がどのようにして生成されたかを考える。\n",
    "3. 新しくできた行列の[2,4,6]がどのように生成されたかを考える。\n",
    "\n",
    "<br>"
   ]
  },
  {
   "cell_type": "markdown",
   "metadata": {},
   "source": [
    "### ▪ 最初に生成される格子は何か\n",
    "\n",
    "もう少し具体的に説明する。\n",
    "\n",
    "1．については簡単で、`n3.shape`の結果を見ればよい。\n",
    "しかしながら2．が難しい。この際大切なのは**行列の最小単位を決定する部分はどこか**なので、`np.transpose(a,b,c)`の`c`に注目すると良い。今回の場合、`np.transpose(0,2,1)`なので、`1`に注目する。この軸`１`は元の行列で何を示しているのか。今回大事なのは（元の行列において）\n",
    "\n",
    "**1,3,5の（縦）方向で新しい行列を作る**\n",
    "\n",
    "という意味であると思う。"
   ]
  },
  {
   "cell_type": "markdown",
   "metadata": {},
   "source": [
    "<br>\n",
    "<br>\n",
    "\n",
    "1．で得られた構造も参考にすると、**新しくできる行列の形は（2,2,3）であり1,3,5の方向で3つの数を取り出せば最小格子の中身が得られる**と読み取れる。すなわち、新たな行列の最小格子の一つは[1,3,5]であると分かる。\n",
    "\n",
    "---縦並べ比較---\n",
    "\n",
    "![](image/2022-04-09-11-04-22.png)\n",
    "\n",
    "![](image/2022-04-09-11-05-56.png)\n",
    "\n"
   ]
  },
  {
   "cell_type": "markdown",
   "metadata": {},
   "source": [
    "<br>\n",
    "<br>\n",
    "\n",
    "### ▪ 2つ目に生成される格子は何か\n",
    "\n",
    "新たな行列では[2,4,6]が次に来ている。これはどういうことなのかというのが、3．で分かるようになっている。\n",
    "\n",
    "次に来る格子を判断するためには`np.transpose(a,b,c)`の`b`に注目すると良く、これが次の格子を選ぶ際の軸となる。今回は`np.transpose(0,2,1)`なので、`2`に注目する。軸`2`について大切なのは（元の行列において）**1,2や3,4方向で数える**という意味だけである。このように数え方の方向性が分かれば、**元の行列から[1,3,5]の次に取ってくる格子の中身は、1,2方向（横方向）に進んで[2,4,6]にする**と理解することが出来るはずだ。決して[7,9,11]ではないという事だ。"
   ]
  },
  {
   "cell_type": "markdown",
   "metadata": {},
   "source": [
    "新たにできる行列の形は（2,2,3）なので、以上で（2,3）の1セットは完成である。これをもう1セット作れば、新たな行列の完成だ。\n",
    "\n",
    "> ちなみに、np.transpose(0,1,2)の`0`はあまり気にしなくても何とかなるというのが今のところの感想で、大事なのはその後ろの2つの軸であるという事を覚えておきたい。\n",
    "\n",
    "以下が、本書のnp.transposeの変換である。"
   ]
  },
  {
   "cell_type": "code",
   "execution_count": 5,
   "metadata": {},
   "outputs": [
    {
     "name": "stdout",
     "output_type": "stream",
     "text": [
      "n5のshapeは (2, 3, 4)で、中身は以下の通り\n",
      "[[[ 0  1  2  3]\n",
      "  [ 4  5  6  7]\n",
      "  [ 8  9 10 11]]\n",
      "\n",
      " [[12 13 14 15]\n",
      "  [16 17 18 19]\n",
      "  [20 21 22 23]]]\n"
     ]
    }
   ],
   "source": [
    "n4 = np.arange(0,24,1)\n",
    "n5 = n4.reshape(2,3,4)\n",
    "print(f'n5のshapeは {n5.shape}で、中身は以下の通り')\n",
    "print(n5)"
   ]
  },
  {
   "cell_type": "code",
   "execution_count": 6,
   "metadata": {},
   "outputs": [
    {
     "name": "stdout",
     "output_type": "stream",
     "text": [
      "n6のshapeは(3, 4, 2)で、中身は以下の通り\n",
      "[[[ 0 12]\n",
      "  [ 1 13]\n",
      "  [ 2 14]\n",
      "  [ 3 15]]\n",
      "\n",
      " [[ 4 16]\n",
      "  [ 5 17]\n",
      "  [ 6 18]\n",
      "  [ 7 19]]\n",
      "\n",
      " [[ 8 20]\n",
      "  [ 9 21]\n",
      "  [10 22]\n",
      "  [11 23]]]\n"
     ]
    }
   ],
   "source": [
    "n6 = np.transpose(n5,(1,2,0))\n",
    "print(f'n6のshapeは{n6.shape}で、中身は以下の通り')\n",
    "print(n6)"
   ]
  },
  {
   "cell_type": "code",
   "execution_count": null,
   "metadata": {},
   "outputs": [],
   "source": []
  }
 ],
 "metadata": {
  "interpreter": {
   "hash": "bfbe35bf288c488fee325a4dbb67003233047618f8bafe5851bfea39f406dc44"
  },
  "kernelspec": {
   "display_name": "Python 3.9.12 64-bit (windows store)",
   "language": "python",
   "name": "python3"
  },
  "language_info": {
   "codemirror_mode": {
    "name": "ipython",
    "version": 3
   },
   "file_extension": ".py",
   "mimetype": "text/x-python",
   "name": "python",
   "nbconvert_exporter": "python",
   "pygments_lexer": "ipython3",
   "version": "3.9.12"
  },
  "orig_nbformat": 4
 },
 "nbformat": 4,
 "nbformat_minor": 2
}
