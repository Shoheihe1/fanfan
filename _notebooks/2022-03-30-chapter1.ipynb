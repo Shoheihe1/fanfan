{
 "cells": [
  {
   "cell_type": "markdown",
   "metadata": {},
   "source": [
    "# 『pytorch ＆ 深層学習プログラミング』　備忘録1章\n",
    "\n"
   ]
  },
  {
   "cell_type": "markdown",
   "metadata": {},
   "source": [
    "この本を読み進める上でつっかかった箇所のみを書いた\n",
    "\n",
    "## 目次\n",
    "- [arange関数](#arange関数（p31）)\n",
    "- [関数を微分する関数（p36）](#関数を微分する関数（p36）)\n",
    "- [「r」ってなんだ（p38）](#「r」ってなんだ（p38）)\n",
    "- [オブジェクト指向とは結局なんなのか](#オブジェクト指向とは結局なんなのか)\n",
    "- [解析的な微分と数値微分](#解析的な微分と数値微分)\n",
    "\n",
    "<br>\n",
    "<br>\n",
    "<br>"
   ]
  },
  {
   "cell_type": "markdown",
   "metadata": {},
   "source": [
    "## arange関数（p31）\n",
    "---\n",
    "<br>\n",
    "何回も使ってたはずなのに、arange関数の使い方を忘れた。調べると、第一引数（下限値）が閉区間、第二引数（上限値）は開区間になるらしい。\n",
    "\n",
    "<br>\n",
    "\n",
    "> **np.linspace()**\n",
    "> \n",
    "> ：この関数では要素数を指定して等差の配列を得ることが出来る。\n",
    "> \n",
    "> 等差数列を得たい時に、交差と要素数のどちらを指定したいかによって関数を使い分けると良い。\n",
    "\n",
    "\n",
    "<br>\n",
    "\n"
   ]
  },
  {
   "cell_type": "code",
   "execution_count": 5,
   "metadata": {},
   "outputs": [
    {
     "name": "stdout",
     "output_type": "stream",
     "text": [
      "[-10  -8  -6  -4  -2   0   2   4   6   8]\n",
      "[-10.  10.]\n"
     ]
    }
   ],
   "source": [
    "\n",
    "print(np.arange(-10,10,2))\n",
    "print(np.linspace(-10,10,2))"
   ]
  },
  {
   "cell_type": "markdown",
   "metadata": {},
   "source": [
    "<br>\n",
    "<br>\n",
    "<br>"
   ]
  },
  {
   "cell_type": "markdown",
   "metadata": {},
   "source": [
    "\n",
    "\n",
    "## 関数を微分する関数（p36）\n",
    "---\n",
    "<br>\n",
    "微分する関数を作るのは容易で、いつも通り `def bibun():`のように微分の関数を作れば良い。\n",
    "\n",
    "問題は**関数の戻り値を関数にしたい**という点。\n",
    "\n",
    "これが意外と、良く分かっていないところだった。\n",
    "\n",
    "**A関数の中にB関数を埋め込み、そのA関数の返り値をB関数にすれば良い**というのが解決法で、考えてみればそりゃそうかという感じだった。\n",
    "\n",
    "  "
   ]
  },
  {
   "cell_type": "code",
   "execution_count": 1,
   "metadata": {},
   "outputs": [],
   "source": [
    "def after_bibun(f):\n",
    "    #微分する関数を中に作る\n",
    "    def bibun(x):\n",
    "        h = 1e-6\n",
    "        return (f(x+h) - f(x-h) / (2*h))\n",
    "    \n",
    "    return bibun "
   ]
  },
  {
   "cell_type": "markdown",
   "metadata": {},
   "source": [
    "<br>\n",
    "<br>\n",
    "<br>"
   ]
  },
  {
   "cell_type": "markdown",
   "metadata": {},
   "source": [
    "## 「r」ってなんだ（p38）\n",
    "---\n",
    "<br>\n",
    "突如出てきた`label = `の後に出てきた`「r」`。見たことはある気がしたが意味が分からなかった。\n",
    "\n",
    "調べると、これはr以降の文字列を **「確実に文字列である」** と認識させるためのもので、別になくても同じ結果になった。あらゆる環境で動作するために一応書いたのかな？\n",
    "\n",
    "<br>\n",
    "  "
   ]
  },
  {
   "cell_type": "code",
   "execution_count": 2,
   "metadata": {},
   "outputs": [
    {
     "name": "stdout",
     "output_type": "stream",
     "text": [
      "this is a sentence.\n",
      "\this is a sentence with an indent.\n",
      "\\this is a sentence with an indent\n"
     ]
    }
   ],
   "source": [
    "print ('this is a sentence.')\n",
    "print ('\\this is a sentence with an indent.')\n",
    "print (r'\\this is a sentence with an indent') # 「r」があるとそれ以降の文字列をエスケープシーケンスとして認識しない"
   ]
  },
  {
   "cell_type": "markdown",
   "metadata": {},
   "source": [
    "<br>\n",
    "このように、事故でエスケープシーケンスと認識されてしまう事を防いだりできる。\n",
    "\n",
    "> **エスケープシーケンス**\n",
    "> \n",
    "> :「\\」と英字を組み合わせて、特殊な意味を持たせられる文字の並び（sequence）の事。上の例なら、thisの「t」という役割から免れる（escape）ことが出来る文字の並びがあるよ、ということだと勝手に理解している。"
   ]
  },
  {
   "cell_type": "markdown",
   "metadata": {},
   "source": [
    "<br>\n",
    "<br>\n",
    "<br>"
   ]
  },
  {
   "cell_type": "markdown",
   "metadata": {},
   "source": [
    "## オブジェクト指向とは結局なんなのか\n",
    "---\n",
    "<br>\n",
    "\n",
    "色々な本にオブジェクト指向の大切さが書かれているけれど、結局何なのか。\n",
    "\n",
    "まず、**何がオブジェクトなんだろう**という疑問がずっとあった。オブジェクトは「モノ」という意味で、pythonにおける「モノ」とは何かが重要だ。調べた結果、それはすなわち**クラスから作られたインスタンス**のことなのだと分かった。\n",
    "\n",
    "`オブジェクト＝インスタンス`\n",
    "\n",
    "と考えて差し支えないような気がした。そのインスタンスすなわち「モノ」を使って、プログラムしていく。\n",
    "\n",
    "<br>\n",
    "<br>\n",
    "\n",
    "だからオブジェクト指向とは、**まずクラスを作って、そこからインスタンス（オブジェクト）を生成する方向性で開発しようね**という考え方なのかなと思った。\n",
    "\n",
    "一般化してからコード作れよ、ということだろうか。今はそのくらいでいいやと思った。\n",
    "（[参考HP](https://eng-entrance.com/what-oop)）\n",
    "<br>\n",
    "<br>\n",
    "<br>"
   ]
  },
  {
   "cell_type": "markdown",
   "metadata": {},
   "source": [
    "## 解析的な微分と数値微分\n",
    "---\n",
    "<br>\n",
    "初めて聞いた言葉だったが、これまで知っていた微分の概念にただ名前がついただけだった。\n",
    "\n",
    "- 解析的な微分は公式に則って微分すること（log(x)の微分は1/xになるとか\n",
    "- 数値微分は微分の定義に従ってlim飛ばして気合で計算すること\n",
    "\n",
    "しかし、上記の説明は表層を見ただけの説明にすぎず、根本的な違いは以下参照。\n",
    "<br>\n",
    "\n",
    "> **無限と有限**\n",
    "> \n",
    "> ：実は両者には、無限と有限という対照的な違いがある。\n",
    "> \n",
    "> 機械学習において、数値微分ではlimを飛ばすときのhを限りなく小さいが有限の値に設定する。つまりこの計算は有限であり、また離散的となる。一方解析的な微分は無限を含んだ微分であり、これはコンピューターには難しい計算らしい。"
   ]
  },
  {
   "cell_type": "markdown",
   "metadata": {},
   "source": []
  }
 ],
 "metadata": {
  "interpreter": {
   "hash": "bfbe35bf288c488fee325a4dbb67003233047618f8bafe5851bfea39f406dc44"
  },
  "kernelspec": {
   "display_name": "Python 3.9.10 64-bit (windows store)",
   "language": "python",
   "name": "python3"
  },
  "language_info": {
   "codemirror_mode": {
    "name": "ipython",
    "version": 3
   },
   "file_extension": ".py",
   "mimetype": "text/x-python",
   "name": "python",
   "nbconvert_exporter": "python",
   "pygments_lexer": "ipython3",
   "version": "3.9.12"
  },
  "orig_nbformat": 4
 },
 "nbformat": 4,
 "nbformat_minor": 2
}
