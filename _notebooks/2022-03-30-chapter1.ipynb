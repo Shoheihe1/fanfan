{
 "cells": [
  {
   "cell_type": "markdown",
   "metadata": {},
   "source": [
    "# 『pytorch ＆ 深層学習プログラミング』　備忘録chap1\n",
    "\n"
   ]
  },
  {
   "cell_type": "markdown",
   "metadata": {},
   "source": [
    "この本を読み進めるうえで自分がぶち当たった壁を書いていく\n",
    "\n",
    "## 目次\n",
    "- [arange関数](#arange関数（p31）)\n",
    "- [関数を微分する関数（p36）](#関数を微分する関数（p36）)\n",
    "- [「r」ってなんだ（p38）](#「r」ってなんだ（p38）)\n",
    "- [オブジェクト指向とは結局なんなのか](#オブジェクト指向とは結局なんなのか)\n",
    "- [解析的な微分と数値微分](#解析的な微分と数値微分)\n",
    "\n",
    "<br>\n",
    "<br>\n",
    "<br>"
   ]
  },
  {
   "cell_type": "markdown",
   "metadata": {},
   "source": [
    "## arange関数（p31）\n",
    "---\n",
    "<br>\n",
    "何回も使ってたはずなのに、arange関数の使い方を忘れた。調べると、第一引数（下限値）が閉区間、第二引数（上限値）は開区間になるらしい。\n",
    "{% include info.html text=\"\n",
    "np.arange(start, stop, step)\n",
    "のように使う。\" %}\n",
    "\n",
    "\n",
    "<br>\n",
    "<br>\n",
    "<br>\n",
    "\n"
   ]
  },
  {
   "cell_type": "markdown",
   "metadata": {},
   "source": [
    "\n",
    "\n",
    "## 関数を微分する関数（p36）\n",
    "---\n",
    "<br>\n",
    "微分する関数を作るのは容易で、いつも通り `def bibun():`のように微分の関数を作れば良い。\n",
    "\n",
    "問題は**関数の戻り値を関数にしたい**という点。\n",
    "\n",
    "これが意外と、良く分かっていないところだった。\n",
    "\n",
    "本を読めばわかるが、**A関数の中にB関数を埋め込み、そのA関数の返り値をB関数にすれば良い**というのが解決法で、理解してしまえば簡単。\n",
    "  \n",
    "<br>\n",
    "<br>\n",
    "<br>\n",
    "  "
   ]
  },
  {
   "cell_type": "markdown",
   "metadata": {},
   "source": [
    "## 「r」ってなんだ（p38）\n",
    "---\n",
    "<br>\n",
    "突如出てきた`label = `の後に出てきた`「r」`。これって何だっけと思った。\n",
    "\n",
    "調べたら、これはr以降の文字列を **「確実に文字列である」** と認識させるためのもので、別になくても同じ結果になった。あらゆる環境で動作するために一応書いたのかな？\n",
    "\n",
    "<br>\n",
    "<br>\n",
    "<br>\n",
    "  "
   ]
  },
  {
   "cell_type": "markdown",
   "metadata": {},
   "source": [
    "## オブジェクト指向とは結局なんなのか\n",
    "---\n",
    "<br>\n",
    "\n",
    "色々な本にオブジェクト指向の大切さが書かれているけれど、結局何なのか。\n",
    "\n",
    "まず、**何がオブジェクトなんだろう**という疑問がずっとあった。オブジェクトは「モノ」という意味で、pythonにおける「モノ」とは何かが重要だ。調べた結果、それはすなわち**クラスから作られたインスタンス**のことなのだと分かった。\n",
    "\n",
    "`オブジェクト＝インスタンス`\n",
    "\n",
    "と考えて差し支えないような気がした。そのインスタンスすなわち「モノ」を使って、プログラムしていく。\n",
    "\n",
    "だからオブジェクト指向とは、**まずクラスを作って、そこからインスタンス（オブジェクト）を生成する方向性で開発しようね**という考え方なのかなと思った。\n",
    "\n",
    "一般化してからコード作れよ、ってことだろうか。今はそのくらいでいいやと思った。\n",
    "（[参考HP](https://eng-entrance.com/what-oop)）\n",
    "<br>\n",
    "<br>\n",
    "<br>"
   ]
  },
  {
   "cell_type": "markdown",
   "metadata": {},
   "source": [
    "## 解析的な微分と数値微分\n",
    "---\n",
    "<br>\n",
    "初めて聞いた言葉だったけど、読めば簡単。\n",
    "\n",
    "- 解析的な微分は公式に則って微分すること（log(x)の微分は1/xになるとか）\n",
    "- 数値微分は微分の定義に従ってlim飛ばして気合で計算すること\n",
    "\n",
    "でした。"
   ]
  },
  {
   "cell_type": "markdown",
   "metadata": {},
   "source": []
  }
 ],
 "metadata": {
  "interpreter": {
   "hash": "bfbe35bf288c488fee325a4dbb67003233047618f8bafe5851bfea39f406dc44"
  },
  "kernelspec": {
   "display_name": "Python 3.9.10 64-bit (windows store)",
   "language": "python",
   "name": "python3"
  },
  "language_info": {
   "codemirror_mode": {
    "name": "ipython",
    "version": 3
   },
   "file_extension": ".py",
   "mimetype": "text/x-python",
   "name": "python",
   "nbconvert_exporter": "python",
   "pygments_lexer": "ipython3",
   "version": "3.9.12"
  },
  "orig_nbformat": 4
 },
 "nbformat": 4,
 "nbformat_minor": 2
}
